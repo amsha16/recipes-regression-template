{
 "cells": [
  {
   "cell_type": "markdown",
   "metadata": {},
   "source": [
    "For smooth running of recipe , we need to upgrade mlflow to latest version 2.4.1.Numpy need to be below 1.24 for smooth running of shap package .Please restart kernel after upgrading mlflow."
   ]
  },
  {
   "cell_type": "code",
   "execution_count": null,
   "metadata": {},
   "outputs": [],
   "source": [
    "import mlflow\n",
    "\n",
    "mlflow.__version__"
   ]
  },
  {
   "cell_type": "code",
   "execution_count": null,
   "metadata": {},
   "outputs": [],
   "source": [
    "pip install mlflow -U"
   ]
  },
  {
   "cell_type": "code",
   "execution_count": null,
   "metadata": {},
   "outputs": [],
   "source": [
    "import mlflow\n",
    "\n",
    "mlflow.__version__"
   ]
  },
  {
   "cell_type": "markdown",
   "metadata": {},
   "source": [
    "IPython extension to reload modules before executing user code.\n",
    "\n",
    "autoreload reloads modules automatically before entering the execution of code typed at the IPython prompt.\n",
    "\n",
    "https://ipython.org/ipython-doc/3/config/extensions/autoreload.html"
   ]
  },
  {
   "cell_type": "code",
   "execution_count": null,
   "metadata": {},
   "outputs": [],
   "source": [
    "%load_ext autoreload\n",
    "%autoreload 2"
   ]
  },
  {
   "cell_type": "markdown",
   "metadata": {},
   "source": [
    "# MLflow Regression Recipe Notebook\n",
    "\n",
    "This notebook runs the MLflow Regression Recipe on Databricks and inspects its results. For more information about the MLflow Regression Recipe, including usage examples, see the [Regression Recipe overview documentation](https://mlflow.org/docs/latest/recipes.html#regression-recipe) the [Regression Recipe API documentation](https://mlflow.org/docs/latest/python_api/mlflow.recipes.html#module-mlflow.recipes.regression.v1.recipe)."
   ]
  },
  {
   "cell_type": "code",
   "execution_count": null,
   "metadata": {},
   "outputs": [],
   "source": [
    "from mlflow.recipes import Recipe\n",
    "\n",
    "r = Recipe(profile=\"local\")"
   ]
  },
  {
   "cell_type": "markdown",
   "metadata": {},
   "source": [
    "### TODO Recording (after running cell below)\n",
    "\n",
    "- Click on recipes.yaml and show\n",
    "- Click on \"ingest\" and show \n",
    "- Click on \"steps/ingest.py\" which is the input\n",
    "- Click on \"ingest_data\" which is output\n",
    "- Click on some other steps in the pipeline \"predict\", \"split\", \"transform, \"train\", \"evaluate\", \"register\"\n"
   ]
  },
  {
   "cell_type": "code",
   "execution_count": null,
   "metadata": {
    "scrolled": false
   },
   "outputs": [],
   "source": [
    "r.inspect()"
   ]
  },
  {
   "cell_type": "markdown",
   "metadata": {},
   "source": [
    "### TODO Recording (for cell below)\n",
    "\n",
    "- In the Data Profile tab\n",
    "- ------ Scroll and show the features\n",
    "- ------ Click on \"Show raw data\" for categorical features (near the chart)\n",
    "- ------ Change the sort\n",
    "- ------ Uncheck \"int\" and \"float\" features\n",
    "- Click on the other tables Data Schema, Data Preview, Run Summary"
   ]
  },
  {
   "cell_type": "code",
   "execution_count": null,
   "metadata": {},
   "outputs": [],
   "source": [
    "r.run(\"ingest\")"
   ]
  },
  {
   "cell_type": "markdown",
   "metadata": {},
   "source": [
    "### TODO Recording (for cell below)\n",
    "\n",
    "- In the Compare Splits tab (note the legend for the split data)\n",
    "- -------- In one of the numeric columns select percentages near the graph (deselect after that)\n",
    "- -------- Change numeric chart to quantiles and show\n",
    "- -------- In one of the categorical columns click on \"Expand\" and show expanded charts\n",
    "- -------- Click on some chart bars and show interaction\n",
    "- Click on Run Summary and show"
   ]
  },
  {
   "cell_type": "code",
   "execution_count": null,
   "metadata": {},
   "outputs": [],
   "source": [
    "r.run(\"split\")"
   ]
  },
  {
   "cell_type": "code",
   "execution_count": null,
   "metadata": {},
   "outputs": [],
   "source": [
    "training_data = r.get_artifact(\"training_data\")\n",
    "\n",
    "training_data.head()"
   ]
  },
  {
   "cell_type": "markdown",
   "metadata": {},
   "source": [
    "### TODO Recording (for cell below)\n",
    "\n",
    "- Click on Data Profile (Train Transformed) and scroll and show\n",
    "- Click on Transformer\n",
    "- ----- In this tab expand the transformer to show the details\n",
    "- Click on all the other tabs and show"
   ]
  },
  {
   "cell_type": "code",
   "execution_count": null,
   "metadata": {},
   "outputs": [],
   "source": [
    "r.run(\"transform\")"
   ]
  },
  {
   "cell_type": "markdown",
   "metadata": {},
   "source": [
    "### TODO Recording (for cell below):\n",
    "\n",
    "- Click on all the different tabs and show\n",
    "- Interact with the graphs where possible"
   ]
  },
  {
   "cell_type": "code",
   "execution_count": null,
   "metadata": {},
   "outputs": [],
   "source": [
    "r.run(\"train\")"
   ]
  },
  {
   "cell_type": "code",
   "execution_count": null,
   "metadata": {},
   "outputs": [],
   "source": [
    "trained_model = r.get_artifact(\"model\")\n",
    "\n",
    "print(trained_model)"
   ]
  },
  {
   "cell_type": "markdown",
   "metadata": {},
   "source": [
    "### TODO Recording (for cell below)\n",
    "\n",
    "- Click on each table and show"
   ]
  },
  {
   "cell_type": "code",
   "execution_count": null,
   "metadata": {},
   "outputs": [],
   "source": [
    "r.run(\"evaluate\")"
   ]
  },
  {
   "cell_type": "code",
   "execution_count": null,
   "metadata": {},
   "outputs": [],
   "source": [
    "r.run(\"register\")"
   ]
  },
  {
   "cell_type": "markdown",
   "metadata": {},
   "source": [
    "### TODO Recording:\n",
    "\n",
    "- Switch over to the MLflow UI\n",
    "- click through to the run\n",
    "- Open up the Parameters, Metrics, Tags sections\n",
    "- Show in the Artifacts that every step has its own folder\n",
    "- Click through some folders and show that card.html contains the visualizations (do a medium thorough exploration here)\n",
    "- Explore the train/ folder in details (we have model, code etc)\n",
    "- Show the feature importances plot"
   ]
  },
  {
   "cell_type": "code",
   "execution_count": null,
   "metadata": {},
   "outputs": [],
   "source": []
  }
 ],
 "metadata": {
  "interpreter": {
   "hash": "c462df992c775797bd5d542b280333286dbcc2ffa1f781b674f30e76741ca83d"
  },
  "kernelspec": {
   "display_name": "mlflow_venv",
   "language": "python",
   "name": "mlflow_venv"
  },
  "language_info": {
   "codemirror_mode": {
    "name": "ipython",
    "version": 3
   },
   "file_extension": ".py",
   "mimetype": "text/x-python",
   "name": "python",
   "nbconvert_exporter": "python",
   "pygments_lexer": "ipython3",
   "version": "3.10.9"
  }
 },
 "nbformat": 4,
 "nbformat_minor": 4
}
